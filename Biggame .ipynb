{
 "cells": [
  {
   "cell_type": "code",
   "execution_count": 1,
   "id": "cff4fa93",
   "metadata": {},
   "outputs": [],
   "source": [
    "import numpy as np\n",
    "import pandas as pd\n",
    "import matplotlib.pyplot as plt\n",
    "import seaborn as sns"
   ]
  },
  {
   "cell_type": "code",
   "execution_count": 2,
   "id": "053c8c95",
   "metadata": {},
   "outputs": [],
   "source": [
    "d1 = pd.read_excel(\"big_game/All Places Census 2016 Population Estimates.xlsx\")\n",
    "d2 = pd.read_excel(\"big_game/All states Census 2017 Population Estimates.xlsx\")\n",
    "d3 = pd.read_excel(\"big_game/Big Game Census data.xlsx\")\n",
    "\n",
    "#Converting it into CSV Files\n",
    "d1.to_csv(\"2016.csv\", index=None, header=True)\n",
    "d2.to_csv(\"2017.csv\", index = None, header=True)\n",
    "d3.to_csv(\"big_census.csv\", index = None, header=True)"
   ]
  },
  {
   "cell_type": "code",
   "execution_count": 4,
   "id": "df1cdaa2",
   "metadata": {},
   "outputs": [],
   "source": [
    "data2016 = pd.read_csv('2016.csv')\n",
    "data2017 = pd.read_csv('2017.csv')\n",
    "bigCensus = pd.read_csv('big_census.csv')"
   ]
  },
  {
   "cell_type": "code",
   "execution_count": 5,
   "id": "faf9f4e5",
   "metadata": {},
   "outputs": [
    {
     "name": "stdout",
     "output_type": "stream",
     "text": [
      "<class 'pandas.core.frame.DataFrame'>\n",
      "RangeIndex: 19510 entries, 0 to 19509\n",
      "Data columns (total 12 columns):\n",
      " #   Column                                     Non-Null Count  Dtype \n",
      "---  ------                                     --------------  ----- \n",
      " 0   Geographic ID                              19510 non-null  object\n",
      " 1   GEOID 2                                    19510 non-null  int64 \n",
      " 2   Geography, full name (City, State)         19510 non-null  object\n",
      " 3   April 1, 2010 - Census                     19510 non-null  object\n",
      " 4   April 1, 2010 - Estimates Base             19510 non-null  int64 \n",
      " 5   Population Estimate (as of July 1) - 2010  19510 non-null  int64 \n",
      " 6   Population Estimate (as of July 1) - 2011  19510 non-null  int64 \n",
      " 7   Population Estimate (as of July 1) - 2012  19510 non-null  int64 \n",
      " 8   Population Estimate (as of July 1) - 2013  19510 non-null  int64 \n",
      " 9   Population Estimate (as of July 1) - 2014  19510 non-null  int64 \n",
      " 10  Population Estimate (as of July 1) - 2015  19510 non-null  int64 \n",
      " 11  Population Estimate (as of July 1) - 2016  19510 non-null  int64 \n",
      "dtypes: int64(9), object(3)\n",
      "memory usage: 1.8+ MB\n"
     ]
    }
   ],
   "source": [
    "data2016.info()\n"
   ]
  },
  {
   "cell_type": "code",
   "execution_count": 6,
   "id": "4e8db454",
   "metadata": {},
   "outputs": [
    {
     "name": "stdout",
     "output_type": "stream",
     "text": [
      "<class 'pandas.core.frame.DataFrame'>\n",
      "RangeIndex: 52 entries, 0 to 51\n",
      "Data columns (total 13 columns):\n",
      " #   Column                                     Non-Null Count  Dtype \n",
      "---  ------                                     --------------  ----- \n",
      " 0   GEOID                                      52 non-null     object\n",
      " 1   GEOID2                                     52 non-null     int64 \n",
      " 2   Geography Name                             52 non-null     object\n",
      " 3   April 1, 2010 - Census                     52 non-null     int64 \n",
      " 4   April 1, 2010 - Estimates Base             52 non-null     int64 \n",
      " 5   Population Estimate (as of July 1) - 2010  52 non-null     int64 \n",
      " 6   Population Estimate (as of July 1) - 2011  52 non-null     int64 \n",
      " 7   Population Estimate (as of July 1) - 2012  52 non-null     int64 \n",
      " 8   Population Estimate (as of July 1) - 2013  52 non-null     int64 \n",
      " 9   Population Estimate (as of July 1) - 2014  52 non-null     int64 \n",
      " 10  Population Estimate (as of July 1) - 2015  52 non-null     int64 \n",
      " 11  Population Estimate (as of July 1) - 2016  52 non-null     int64 \n",
      " 12  Population Estimate (as of July 1) - 2017  52 non-null     int64 \n",
      "dtypes: int64(11), object(2)\n",
      "memory usage: 5.4+ KB\n"
     ]
    }
   ],
   "source": [
    "data2017.info()"
   ]
  },
  {
   "cell_type": "code",
   "execution_count": 8,
   "id": "65ab1c0d",
   "metadata": {},
   "outputs": [
    {
     "name": "stdout",
     "output_type": "stream",
     "text": [
      "<class 'pandas.core.frame.DataFrame'>\n",
      "RangeIndex: 121 entries, 0 to 120\n",
      "Data columns (total 24 columns):\n",
      " #   Column                                                    Non-Null Count  Dtype  \n",
      "---  ------                                                    --------------  -----  \n",
      " 0   Player Name                                               119 non-null    object \n",
      " 1   Player Jersey Number                                      118 non-null    object \n",
      " 2   Player Position                                           118 non-null    object \n",
      " 3   Player Age                                                118 non-null    float64\n",
      " 4   Player Weight (lbs.)                                      118 non-null    float64\n",
      " 5   Years Played                                              118 non-null    object \n",
      " 6   Player Birthplace (city, town, etc.)                      118 non-null    object \n",
      " 7   Player Birth State                                        118 non-null    object \n",
      " 8   Player Birthplace (Combo)                                 118 non-null    object \n",
      " 9   Player College                                            118 non-null    object \n",
      " 10  Player Team                                               118 non-null    object \n",
      " 11  Conference                                                118 non-null    object \n",
      " 12  2016 Population Estimates (except where otherwise noted)  118 non-null    object \n",
      " 13  State GEO ID                                              118 non-null    float64\n",
      " 14  Full GEOID                                                118 non-null    object \n",
      " 15  Latitude (player birthplace)                              118 non-null    float64\n",
      " 16  Longitude (player birthplace)                             118 non-null    float64\n",
      " 17  Number from City                                          118 non-null    float64\n",
      " 18  Number of Records                                         118 non-null    float64\n",
      " 19  American FactFinder Link for more Census data points      118 non-null    object \n",
      " 20  Quickfacts Link                                           118 non-null    object \n",
      " 21  State Data Link                                           118 non-null    object \n",
      " 22  Source (Population States 2017)                           118 non-null    object \n",
      " 23  Birthplace, Population Data Source                        118 non-null    object \n",
      "dtypes: float64(7), object(17)\n",
      "memory usage: 22.8+ KB\n"
     ]
    }
   ],
   "source": [
    "bigCensus.info()\n"
   ]
  },
  {
   "cell_type": "code",
   "execution_count": 9,
   "id": "8f9dc22b",
   "metadata": {},
   "outputs": [
    {
     "data": {
      "text/html": [
       "<div>\n",
       "<style scoped>\n",
       "    .dataframe tbody tr th:only-of-type {\n",
       "        vertical-align: middle;\n",
       "    }\n",
       "\n",
       "    .dataframe tbody tr th {\n",
       "        vertical-align: top;\n",
       "    }\n",
       "\n",
       "    .dataframe thead th {\n",
       "        text-align: right;\n",
       "    }\n",
       "</style>\n",
       "<table border=\"1\" class=\"dataframe\">\n",
       "  <thead>\n",
       "    <tr style=\"text-align: right;\">\n",
       "      <th></th>\n",
       "      <th>Player Name</th>\n",
       "      <th>Player Jersey Number</th>\n",
       "      <th>Player Position</th>\n",
       "      <th>Player Age</th>\n",
       "      <th>Player Weight (lbs.)</th>\n",
       "      <th>Years Played</th>\n",
       "      <th>Player Birthplace (city, town, etc.)</th>\n",
       "      <th>Player Birth State</th>\n",
       "      <th>Player Birthplace (Combo)</th>\n",
       "      <th>Player College</th>\n",
       "      <th>...</th>\n",
       "      <th>Full GEOID</th>\n",
       "      <th>Latitude (player birthplace)</th>\n",
       "      <th>Longitude (player birthplace)</th>\n",
       "      <th>Number from City</th>\n",
       "      <th>Number of Records</th>\n",
       "      <th>American FactFinder Link for more Census data points</th>\n",
       "      <th>Quickfacts Link</th>\n",
       "      <th>State Data Link</th>\n",
       "      <th>Source (Population States 2017)</th>\n",
       "      <th>Birthplace, Population Data Source</th>\n",
       "    </tr>\n",
       "  </thead>\n",
       "  <tbody>\n",
       "    <tr>\n",
       "      <th>0</th>\n",
       "      <td>Devin McCourty</td>\n",
       "      <td>#32</td>\n",
       "      <td>S/FS</td>\n",
       "      <td>30.0</td>\n",
       "      <td>195.0</td>\n",
       "      <td>8</td>\n",
       "      <td>Nanuet</td>\n",
       "      <td>New York</td>\n",
       "      <td>Nanuet, New York</td>\n",
       "      <td>Rutgers</td>\n",
       "      <td>...</td>\n",
       "      <td>0400000US36</td>\n",
       "      <td>41.088707</td>\n",
       "      <td>-74.013473</td>\n",
       "      <td>1.0</td>\n",
       "      <td>1.0</td>\n",
       "      <td>https://factfinder.census.gov/bkmk/cf/1.0/en/p...</td>\n",
       "      <td>https://www.census.gov/quickfacts/fact/table/N...</td>\n",
       "      <td>https://factfinder.census.gov/bkmk/cf/1.0/en/s...</td>\n",
       "      <td>U.S. Census Bureau, 2017 Annual Estimates of t...</td>\n",
       "      <td>U.S. Census Bureau, 2012-2016 American Communi...</td>\n",
       "    </tr>\n",
       "    <tr>\n",
       "      <th>1</th>\n",
       "      <td>Danny Amendola</td>\n",
       "      <td>#80</td>\n",
       "      <td>PR/WR/KR</td>\n",
       "      <td>32.0</td>\n",
       "      <td>190.0</td>\n",
       "      <td>9</td>\n",
       "      <td>The Woodlands</td>\n",
       "      <td>Texas</td>\n",
       "      <td>The Woodlands, Texas</td>\n",
       "      <td>Texas Tech</td>\n",
       "      <td>...</td>\n",
       "      <td>0400000US48</td>\n",
       "      <td>30.173419</td>\n",
       "      <td>-95.504686</td>\n",
       "      <td>1.0</td>\n",
       "      <td>1.0</td>\n",
       "      <td>https://factfinder.census.gov/bkmk/cf/1.0/en/p...</td>\n",
       "      <td>https://www.census.gov/quickfacts/fact/table/T...</td>\n",
       "      <td>https://factfinder.census.gov/bkmk/cf/1.0/en/s...</td>\n",
       "      <td>U.S. Census Bureau, 2017 Annual Estimates of t...</td>\n",
       "      <td>U.S. Census Bureau, 2012-2016 American Communi...</td>\n",
       "    </tr>\n",
       "    <tr>\n",
       "      <th>2</th>\n",
       "      <td>Johnson Bademosi</td>\n",
       "      <td>#29</td>\n",
       "      <td>CB/SPTM/RCB</td>\n",
       "      <td>27.0</td>\n",
       "      <td>206.0</td>\n",
       "      <td>6</td>\n",
       "      <td>Silver Spring</td>\n",
       "      <td>Maryland</td>\n",
       "      <td>Silver Spring, Maryland</td>\n",
       "      <td>Stanford</td>\n",
       "      <td>...</td>\n",
       "      <td>0400000US24</td>\n",
       "      <td>38.990666</td>\n",
       "      <td>-77.026088</td>\n",
       "      <td>1.0</td>\n",
       "      <td>1.0</td>\n",
       "      <td>https://factfinder.census.gov/bkmk/cf/1.0/en/p...</td>\n",
       "      <td>https://www.census.gov/quickfacts/fact/table/S...</td>\n",
       "      <td>https://factfinder.census.gov/bkmk/cf/1.0/en/s...</td>\n",
       "      <td>U.S. Census Bureau, 2017 Annual Estimates of t...</td>\n",
       "      <td>U.S. Census Bureau, 2012-2016 American Communi...</td>\n",
       "    </tr>\n",
       "    <tr>\n",
       "      <th>3</th>\n",
       "      <td>Chris Hogan</td>\n",
       "      <td>#15</td>\n",
       "      <td>WR</td>\n",
       "      <td>29.0</td>\n",
       "      <td>210.0</td>\n",
       "      <td>5</td>\n",
       "      <td>Wyckoff</td>\n",
       "      <td>New Jersey</td>\n",
       "      <td>Wyckoff, New Jersey</td>\n",
       "      <td>Monmouth</td>\n",
       "      <td>...</td>\n",
       "      <td>0400000US34</td>\n",
       "      <td>41.009542</td>\n",
       "      <td>-74.172922</td>\n",
       "      <td>1.0</td>\n",
       "      <td>1.0</td>\n",
       "      <td>https://factfinder.census.gov/bkmk/cf/1.0/en/p...</td>\n",
       "      <td>https://www.census.gov/quickfacts/fact/table/W...</td>\n",
       "      <td>https://factfinder.census.gov/bkmk/cf/1.0/en/s...</td>\n",
       "      <td>U.S. Census Bureau, 2017 Annual Estimates of t...</td>\n",
       "      <td>U.S. Census Bureau, 2012-2016 American Communi...</td>\n",
       "    </tr>\n",
       "    <tr>\n",
       "      <th>4</th>\n",
       "      <td>James Develin</td>\n",
       "      <td>#46</td>\n",
       "      <td>RB/FB</td>\n",
       "      <td>29.0</td>\n",
       "      <td>255.0</td>\n",
       "      <td>5</td>\n",
       "      <td>Gilbertsville</td>\n",
       "      <td>Pennsylvania</td>\n",
       "      <td>Gilbertsville, Pennsylvania</td>\n",
       "      <td>Brown</td>\n",
       "      <td>...</td>\n",
       "      <td>0400000US42</td>\n",
       "      <td>40.320097</td>\n",
       "      <td>-75.610184</td>\n",
       "      <td>1.0</td>\n",
       "      <td>1.0</td>\n",
       "      <td>https://factfinder.census.gov/bkmk/cf/1.0/en/p...</td>\n",
       "      <td>https://www.census.gov/quickfacts/fact/table/G...</td>\n",
       "      <td>https://factfinder.census.gov/bkmk/cf/1.0/en/s...</td>\n",
       "      <td>U.S. Census Bureau, 2017 Annual Estimates of t...</td>\n",
       "      <td>U.S. Census Bureau, 2012-2016 American Communi...</td>\n",
       "    </tr>\n",
       "  </tbody>\n",
       "</table>\n",
       "<p>5 rows × 24 columns</p>\n",
       "</div>"
      ],
      "text/plain": [
       "        Player Name Player Jersey Number Player Position  Player Age  \\\n",
       "0    Devin McCourty                  #32            S/FS        30.0   \n",
       "1    Danny Amendola                  #80        PR/WR/KR        32.0   \n",
       "2  Johnson Bademosi                  #29     CB/SPTM/RCB        27.0   \n",
       "3       Chris Hogan                  #15              WR        29.0   \n",
       "4     James Develin                  #46           RB/FB        29.0   \n",
       "\n",
       "   Player Weight (lbs.) Years Played Player Birthplace (city, town, etc.)  \\\n",
       "0                 195.0            8                               Nanuet   \n",
       "1                 190.0            9                        The Woodlands   \n",
       "2                 206.0            6                        Silver Spring   \n",
       "3                 210.0            5                              Wyckoff   \n",
       "4                 255.0            5                        Gilbertsville   \n",
       "\n",
       "  Player Birth State    Player Birthplace (Combo) Player College  ...  \\\n",
       "0           New York             Nanuet, New York        Rutgers  ...   \n",
       "1              Texas         The Woodlands, Texas     Texas Tech  ...   \n",
       "2           Maryland      Silver Spring, Maryland       Stanford  ...   \n",
       "3         New Jersey          Wyckoff, New Jersey       Monmouth  ...   \n",
       "4       Pennsylvania  Gilbertsville, Pennsylvania          Brown  ...   \n",
       "\n",
       "    Full GEOID Latitude (player birthplace) Longitude (player birthplace)  \\\n",
       "0  0400000US36                    41.088707                    -74.013473   \n",
       "1  0400000US48                    30.173419                    -95.504686   \n",
       "2  0400000US24                    38.990666                    -77.026088   \n",
       "3  0400000US34                    41.009542                    -74.172922   \n",
       "4  0400000US42                    40.320097                    -75.610184   \n",
       "\n",
       "   Number from City Number of Records  \\\n",
       "0               1.0               1.0   \n",
       "1               1.0               1.0   \n",
       "2               1.0               1.0   \n",
       "3               1.0               1.0   \n",
       "4               1.0               1.0   \n",
       "\n",
       "   American FactFinder Link for more Census data points  \\\n",
       "0  https://factfinder.census.gov/bkmk/cf/1.0/en/p...      \n",
       "1  https://factfinder.census.gov/bkmk/cf/1.0/en/p...      \n",
       "2  https://factfinder.census.gov/bkmk/cf/1.0/en/p...      \n",
       "3  https://factfinder.census.gov/bkmk/cf/1.0/en/p...      \n",
       "4  https://factfinder.census.gov/bkmk/cf/1.0/en/p...      \n",
       "\n",
       "                                     Quickfacts Link  \\\n",
       "0  https://www.census.gov/quickfacts/fact/table/N...   \n",
       "1  https://www.census.gov/quickfacts/fact/table/T...   \n",
       "2  https://www.census.gov/quickfacts/fact/table/S...   \n",
       "3  https://www.census.gov/quickfacts/fact/table/W...   \n",
       "4  https://www.census.gov/quickfacts/fact/table/G...   \n",
       "\n",
       "                                     State Data Link  \\\n",
       "0  https://factfinder.census.gov/bkmk/cf/1.0/en/s...   \n",
       "1  https://factfinder.census.gov/bkmk/cf/1.0/en/s...   \n",
       "2  https://factfinder.census.gov/bkmk/cf/1.0/en/s...   \n",
       "3  https://factfinder.census.gov/bkmk/cf/1.0/en/s...   \n",
       "4  https://factfinder.census.gov/bkmk/cf/1.0/en/s...   \n",
       "\n",
       "                     Source (Population States 2017)  \\\n",
       "0  U.S. Census Bureau, 2017 Annual Estimates of t...   \n",
       "1  U.S. Census Bureau, 2017 Annual Estimates of t...   \n",
       "2  U.S. Census Bureau, 2017 Annual Estimates of t...   \n",
       "3  U.S. Census Bureau, 2017 Annual Estimates of t...   \n",
       "4  U.S. Census Bureau, 2017 Annual Estimates of t...   \n",
       "\n",
       "                  Birthplace, Population Data Source  \n",
       "0  U.S. Census Bureau, 2012-2016 American Communi...  \n",
       "1  U.S. Census Bureau, 2012-2016 American Communi...  \n",
       "2  U.S. Census Bureau, 2012-2016 American Communi...  \n",
       "3  U.S. Census Bureau, 2012-2016 American Communi...  \n",
       "4  U.S. Census Bureau, 2012-2016 American Communi...  \n",
       "\n",
       "[5 rows x 24 columns]"
      ]
     },
     "execution_count": 9,
     "metadata": {},
     "output_type": "execute_result"
    }
   ],
   "source": [
    "bigCensus.head()\n"
   ]
  },
  {
   "cell_type": "code",
   "execution_count": 13,
   "id": "983e5f59",
   "metadata": {},
   "outputs": [
    {
     "data": {
      "text/plain": [
       "Geographic ID                                0\n",
       "GEOID 2                                      0\n",
       "Geography, full name (City, State)           0\n",
       "April 1, 2010 - Census                       0\n",
       "April 1, 2010 - Estimates Base               0\n",
       "Population Estimate (as of July 1) - 2010    0\n",
       "Population Estimate (as of July 1) - 2011    0\n",
       "Population Estimate (as of July 1) - 2012    0\n",
       "Population Estimate (as of July 1) - 2013    0\n",
       "Population Estimate (as of July 1) - 2014    0\n",
       "Population Estimate (as of July 1) - 2015    0\n",
       "Population Estimate (as of July 1) - 2016    0\n",
       "dtype: int64"
      ]
     },
     "execution_count": 13,
     "metadata": {},
     "output_type": "execute_result"
    }
   ],
   "source": [
    "data2016.isnull().sum()\n"
   ]
  },
  {
   "cell_type": "code",
   "execution_count": 14,
   "id": "45692c06",
   "metadata": {},
   "outputs": [
    {
     "data": {
      "text/plain": [
       "GEOID                                        0\n",
       "GEOID2                                       0\n",
       "Geography Name                               0\n",
       "April 1, 2010 - Census                       0\n",
       "April 1, 2010 - Estimates Base               0\n",
       "Population Estimate (as of July 1) - 2010    0\n",
       "Population Estimate (as of July 1) - 2011    0\n",
       "Population Estimate (as of July 1) - 2012    0\n",
       "Population Estimate (as of July 1) - 2013    0\n",
       "Population Estimate (as of July 1) - 2014    0\n",
       "Population Estimate (as of July 1) - 2015    0\n",
       "Population Estimate (as of July 1) - 2016    0\n",
       "Population Estimate (as of July 1) - 2017    0\n",
       "dtype: int64"
      ]
     },
     "execution_count": 14,
     "metadata": {},
     "output_type": "execute_result"
    }
   ],
   "source": [
    "data2017.isnull().sum()"
   ]
  },
  {
   "cell_type": "code",
   "execution_count": 15,
   "id": "f5d039b0",
   "metadata": {},
   "outputs": [
    {
     "data": {
      "text/plain": [
       "Player Name                                                 2\n",
       "Player Jersey Number                                        3\n",
       "Player Position                                             3\n",
       "Player Age                                                  3\n",
       "Player Weight (lbs.)                                        3\n",
       "Years Played                                                3\n",
       "Player Birthplace (city, town, etc.)                        3\n",
       "Player Birth State                                          3\n",
       "Player Birthplace (Combo)                                   3\n",
       "Player College                                              3\n",
       "Player Team                                                 3\n",
       "Conference                                                  3\n",
       "2016 Population Estimates (except where otherwise noted)    3\n",
       "State GEO ID                                                3\n",
       "Full GEOID                                                  3\n",
       "Latitude (player birthplace)                                3\n",
       "Longitude (player birthplace)                               3\n",
       "Number from City                                            3\n",
       "Number of Records                                           3\n",
       "American FactFinder Link for more Census data points        3\n",
       "Quickfacts Link                                             3\n",
       "State Data Link                                             3\n",
       "Source (Population States 2017)                             3\n",
       "Birthplace, Population Data Source                          3\n",
       "dtype: int64"
      ]
     },
     "execution_count": 15,
     "metadata": {},
     "output_type": "execute_result"
    }
   ],
   "source": [
    "bigCensus.isnull().sum()"
   ]
  },
  {
   "cell_type": "code",
   "execution_count": 16,
   "id": "1ccf0f45",
   "metadata": {},
   "outputs": [],
   "source": [
    "bigCensus = bigCensus.drop([bigCensus.index[118], bigCensus.index[119], bigCensus.index[120]])"
   ]
  },
  {
   "cell_type": "code",
   "execution_count": 17,
   "id": "23417705",
   "metadata": {},
   "outputs": [
    {
     "data": {
      "text/plain": [
       "Player Name                                                 0\n",
       "Player Jersey Number                                        0\n",
       "Player Position                                             0\n",
       "Player Age                                                  0\n",
       "Player Weight (lbs.)                                        0\n",
       "Years Played                                                0\n",
       "Player Birthplace (city, town, etc.)                        0\n",
       "Player Birth State                                          0\n",
       "Player Birthplace (Combo)                                   0\n",
       "Player College                                              0\n",
       "Player Team                                                 0\n",
       "Conference                                                  0\n",
       "2016 Population Estimates (except where otherwise noted)    0\n",
       "State GEO ID                                                0\n",
       "Full GEOID                                                  0\n",
       "Latitude (player birthplace)                                0\n",
       "Longitude (player birthplace)                               0\n",
       "Number from City                                            0\n",
       "Number of Records                                           0\n",
       "American FactFinder Link for more Census data points        0\n",
       "Quickfacts Link                                             0\n",
       "State Data Link                                             0\n",
       "Source (Population States 2017)                             0\n",
       "Birthplace, Population Data Source                          0\n",
       "dtype: int64"
      ]
     },
     "execution_count": 17,
     "metadata": {},
     "output_type": "execute_result"
    }
   ],
   "source": [
    "bigCensus.isnull().sum()"
   ]
  },
  {
   "cell_type": "code",
   "execution_count": 18,
   "id": "aa0eb6ab",
   "metadata": {},
   "outputs": [],
   "source": [
    "bigCensus.to_csv('Big_Game.csv', index=None, header=True)"
   ]
  },
  {
   "cell_type": "code",
   "execution_count": null,
   "id": "afba7b51",
   "metadata": {},
   "outputs": [],
   "source": []
  }
 ],
 "metadata": {
  "kernelspec": {
   "display_name": "Python 3 (ipykernel)",
   "language": "python",
   "name": "python3"
  },
  "language_info": {
   "codemirror_mode": {
    "name": "ipython",
    "version": 3
   },
   "file_extension": ".py",
   "mimetype": "text/x-python",
   "name": "python",
   "nbconvert_exporter": "python",
   "pygments_lexer": "ipython3",
   "version": "3.11.4"
  }
 },
 "nbformat": 4,
 "nbformat_minor": 5
}
